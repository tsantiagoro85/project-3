{
 "cells": [
  {
   "cell_type": "code",
   "execution_count": 8,
   "metadata": {},
   "outputs": [],
   "source": [
    "# Import dependencies\n",
    "import csv\n",
    "import json"
   ]
  },
  {
   "cell_type": "code",
   "execution_count": 9,
   "metadata": {},
   "outputs": [],
   "source": [
    "# Read CSV data for education\n",
    "with open('merged_datasets/dataset_education_2018-2023_melt.csv', 'r') as csv_file:\n",
    "    csv_reader = csv.DictReader(csv_file)\n",
    "    data = list(csv_reader)\n",
    "\n",
    "# Write JSON data\n",
    "with open('dashboard/dataset_education_2018-2023_melt.json', 'w') as json_file:\n",
    "    json.dump(data, json_file, indent=1)"
   ]
  },
  {
   "cell_type": "code",
   "execution_count": 10,
   "metadata": {},
   "outputs": [],
   "source": [
    "# Read CSV data for income\n",
    "with open('merged_datasets/dataset_income_2018-2023_dashboard_melt.csv', 'r') as csv_file:\n",
    "    csv_reader = csv.DictReader(csv_file)\n",
    "    data = list(csv_reader)\n",
    "\n",
    "# Write JSON data\n",
    "with open('dashboard/dataset_income_2018-2023_dashboard_melt.json', 'w') as json_file:\n",
    "    json.dump(data, json_file, indent=1)"
   ]
  },
  {
   "cell_type": "code",
   "execution_count": null,
   "metadata": {},
   "outputs": [],
   "source": []
  }
 ],
 "metadata": {
  "anaconda-cloud": {},
  "kernelspec": {
   "display_name": "Python 3 (ipykernel)",
   "language": "python",
   "name": "python3"
  },
  "language_info": {
   "codemirror_mode": {
    "name": "ipython",
    "version": 3
   },
   "file_extension": ".py",
   "mimetype": "text/x-python",
   "name": "python",
   "nbconvert_exporter": "python",
   "pygments_lexer": "ipython3",
   "version": "3.12.2"
  },
  "vscode": {
   "interpreter": {
    "hash": "a6718eb479f769bb863e92eaed4bb3a09bd68423c1940aa1422760fd83bc3d8a"
   }
  }
 },
 "nbformat": 4,
 "nbformat_minor": 4
}
